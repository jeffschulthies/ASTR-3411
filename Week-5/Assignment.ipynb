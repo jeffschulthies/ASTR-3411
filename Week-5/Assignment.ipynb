{
 "cells": [
  {
   "cell_type": "markdown",
   "metadata": {
    "collapsed": false
   },
   "source": [
    "## Binomial Distributions: Problem\n",
    "Each of you will throw 20 times/experiment 1, 4 and 10 quarters\n",
    "and counts the number of heads for each throw. You will all\n",
    "combine your results and draw the distributions for each\n",
    "experiment that you will compare to your theoretical binomial\n",
    "distributions"
   ]
  },
  {
   "cell_type": "code",
   "execution_count": 78,
   "metadata": {},
   "outputs": [
    {
     "name": "stdout",
     "output_type": "stream",
     "text": [
      "Trial Number 1\nNumber of Coins: 1\nHeads: 6\nTails: 14\n\nTrial Number 2\nNumber of Coins: 4\nHeads: 34\nTails: 46\n\nTrial Number 3\nNumber of Coins: 10\nHeads: 103\nTails: 97\n\n"
     ]
    },
    {
     "data": {
      "image/png": "[encoded data removed]",
      "text/plain": [
       "<matplotlib.figure.Figure at 0x1193d7f98>"
      ]
     },
     "metadata": {},
     "output_type": "display_data"
    }
   ],
   "source": [
    "import matplotlib.pyplot as plt\n",
    "import numpy as np\n",
    "from random import getrandbits\n",
    "\n",
    "number_of_coins = [1, 4, 10]\n",
    "experiments = 20\n",
    "\n",
    "for i, coins in enumerate(number_of_coins):\n",
    "    value_heads = 0\n",
    "    value_tails = 0\n",
    "    for _ in range(experiments):\n",
    "        for coin in range(coins):\n",
    "            if getrandbits(1):\n",
    "                value_heads = value_heads + 1\n",
    "            else:\n",
    "                value_tails = value_tails + 1\n",
    "    print(\"Trial Number %s\" % (i + 1))\n",
    "    print(\"Number of Coins: %s\" % coins)\n",
    "    print(\"Heads: %s\" % value_heads)\n",
    "    print(\"Tails: %s\" % value_tails)\n",
    "    print(\"\")\n",
    "    \n",
    "n, bins, patches = plt.hist([value_heads, value_tails], 3, normed=1, facecolor='#2524fc', alpha=0.75)\n",
    "plt.show()"
   ]
  },
  {
   "cell_type": "markdown",
   "metadata": {
    "collapsed": true
   },
   "source": [
    "## Problem\n",
    "What is the distribution of a sum of n random variables whose\n",
    "values are randomly picked between 0 and 1 with equal\n",
    "probability? Do the experiment using simulations."
   ]
  },
  {
   "cell_type": "code",
   "execution_count": 79,
   "metadata": {},
   "outputs": [
    {
     "data": {
      "image/png": "[encoded data removed]",
      "text/plain": [
       "<matplotlib.figure.Figure at 0x118e490f0>"
      ]
     },
     "metadata": {},
     "output_type": "display_data"
    }
   ],
   "source": [
    "# Try changing me\n",
    "random_variables = 200\n",
    "experiments = 10\n",
    "\n",
    "inclusive_total = random_variables + 1 # Add 1 to account for all sums\n",
    "graph_bins = np.arange(0, inclusive_total, 1)\n",
    "bins = np.zeros(inclusive_total, dtype=np.float64)  \n",
    "normalized_bins = np.zeros(inclusive_total, dtype=np.float64)\n",
    "\n",
    "# Calculate the sum of random variables\n",
    "for _ in range(experiments):\n",
    "    value = 0\n",
    "    for i in range(random_variables):\n",
    "        if getrandbits(1):\n",
    "            value = value + 1\n",
    "    bins[value] = bins[value] + 1\n",
    "\n",
    "for i, value in enumerate(bins):\n",
    "    normalized_bins[i] = (value / experiments)\n",
    "    \n",
    "plt.plot(graph_bins, normalized_bins)\n",
    "plt.show()"
   ]
  },
  {
   "cell_type": "markdown",
   "metadata": {},
   "source": [
    "# Lecture 7 Recreation"
   ]
  },
  {
   "cell_type": "markdown",
   "metadata": {},
   "source": [
    "## True Dataset"
   ]
  },
  {
   "cell_type": "code",
   "execution_count": 80,
   "metadata": {},
   "outputs": [
    {
     "data": {
      "image/png": "[encoded data removed]",
      "text/plain": [
       "<matplotlib.figure.Figure at 0x119412400>"
      ]
     },
     "metadata": {},
     "output_type": "display_data"
    }
   ],
   "source": [
    "x = np.arange(20, 120, 20)\n",
    "# y = np.array([940, 1010, 960, 955, 890])  # Observed Values\n",
    "y = np.array([965, 985, 960, 970, 925])  # Observed Values\n",
    "e = np.sqrt(y)  # Uncertainty\n",
    "\n",
    "fig, ax = plt.subplots()\n",
    "plt.plot(linestyle=\"None\")\n",
    "ax.errorbar(x, y, e, linestyle='None', marker='o')\n",
    "plt.show()"
   ]
  },
  {
   "cell_type": "code",
   "execution_count": 113,
   "metadata": {},
   "outputs": [],
   "source": [
    "## Model\n",
    "def linear_model(a, photon_energy):\n",
    "    \"\"\"Linear Model\n",
    "\n",
    "    Args:\n",
    "        a: Slope\n",
    "        photon_energy: Observed photon energy.\n",
    "\n",
    "    Returns:\n",
    "        Value from the linear function.\n",
    "    \"\"\"\n",
    "    return (a * photon_energy) + 1000"
   ]
  },
  {
   "cell_type": "markdown",
   "metadata": {},
   "source": [
    "## Minimizing Function"
   ]
  },
  {
   "cell_type": "code",
   "execution_count": 114,
   "metadata": {},
   "outputs": [],
   "source": [
    "def minimizing_function(a, photon_energy, observed_values):\n",
    "    \"\"\"Chi Squared Minimizing Function\n",
    "\n",
    "    Args:\n",
    "        a: Slope\n",
    "        photon_energy: Array of energy observed\n",
    "        observed_values: Array of number of observed photons.\n",
    "\n",
    "    Returns:\n",
    "        Value from the chi squared function.\n",
    "    \"\"\"\n",
    "    value = 0\n",
    "    for i, observed_value in enumerate(observed_values):\n",
    "        predicated_value = linear_model(a, photon_energy[i])  # Retrieve the value for the predicted value from the model\n",
    "        value = value + np.square((observed_value - predicated_value) / np.sqrt(observed_value))\n",
    "    return value"
   ]
  },
  {
   "cell_type": "markdown",
   "metadata": {},
   "source": [
    "## Find the minimum a value"
   ]
  },
  {
   "cell_type": "code",
   "execution_count": 115,
   "metadata": {
    "collapsed": false
   },
   "outputs": [
    {
     "name": "stdout",
     "output_type": "stream",
     "text": [
      "1.2136473089\n-0.6215\n"
     ]
    }
   ],
   "source": [
    "import sys\n",
    "\n",
    "possible_minimum_a = np.arange(-.8, -.6, .0001)  # Generate values to brute force a\n",
    "minimum = sys.maxsize  # Set the max size so any value will be less than the minimum\n",
    "minimum_a = 0  # Keep track of the minimum a value used\n",
    "\n",
    "for i in possible_minimum_a:\n",
    "    temp_min = minimizing_function(i, x, y)\n",
    "    if temp_min < minimum:\n",
    "        minimum = temp_min\n",
    "        minimum_a = i\n",
    "\n",
    "print(minimum)\n",
    "print(minimum_a)"
   ]
  },
  {
   "cell_type": "markdown",
   "metadata": {},
   "source": [
    "## Reconstructed Spectrum"
   ]
  },
  {
   "cell_type": "code",
   "execution_count": 118,
   "metadata": {},
   "outputs": [
    {
     "data": {
      "image/png": "[encoded data removed]",
      "text/plain": [
       "<matplotlib.figure.Figure at 0x119343748>"
      ]
     },
     "metadata": {},
     "output_type": "display_data"
    }
   ],
   "source": [
    "a = np.arange(20, 120, 20)\n",
    "b = np.empty([len(a)]) \n",
    "for i, value in enumerate(a):\n",
    "    b[i] = linear_model(minimum_a, value)\n",
    "\n",
    "fig, ax = plt.subplots()\n",
    "plt.plot(a, b)\n",
    "plt.show()"
   ]
  },
  {
   "cell_type": "markdown",
   "metadata": {},
   "source": [
    "## Fitted Linear Model "
   ]
  },
  {
   "cell_type": "code",
   "execution_count": 121,
   "metadata": {},
   "outputs": [
    {
     "data": {
      "image/png": "[encoded data removed]",
      "text/plain": [
       "<matplotlib.figure.Figure at 0x11930b7f0>"
      ]
     },
     "metadata": {},
     "output_type": "display_data"
    }
   ],
   "source": [
    "plt.subplot(211)  # the first subplot in the first figure\n",
    "plt.plot(a, b, color='red')\n",
    "plt.errorbar(x, y, e, linestyle='None', color='#2524fc', marker='o')\n",
    "\n",
    "# Standard Deviations\n",
    "std = (y - b) / np.sqrt(b)\n",
    "plt.subplot(212)  # the first subplot in the first figure\n",
    "plt.errorbar(x, std, yerr=.2, linestyle='None', color='red', marker='o')\n",
    "plt.plot(x, [0, 0, 0, 0, 0], linestyle='dotted', color='red')\n",
    "plt.show()"
   ]
  },
  {
   "cell_type": "markdown",
   "metadata": {},
   "source": [
    "## Generate Fake Data Using the Model\n",
    "### a = minimum_a"
   ]
  },
  {
   "cell_type": "code",
   "execution_count": 124,
   "metadata": {
    "collapsed": false
   },
   "outputs": [
    {
     "data": {
      "image/png": "[encoded data removed]",
      "text/plain": [
       "<matplotlib.figure.Figure at 0x1199deb00>"
      ]
     },
     "metadata": {},
     "output_type": "display_data"
    }
   ],
   "source": [
    "# TODO Change the normal distribution size\n",
    "\n",
    "generated_data_size = 10\n",
    "minimum_number_photons = linear_model(minimum_a, x)\n",
    "\n",
    "# 2-D Array to store the generated normal distributions for each point\n",
    "generated_data = np.zeros([len(minimum_number_photons), generated_data_size])\n",
    "generated_data_x_ticks = np.zeros([len(minimum_number_photons), generated_data_size])\n",
    "\n",
    "for i, data in enumerate(minimum_number_photons):\n",
    "    # Normal Distribution for each point\n",
    "    generated_data[i] = np.random.normal(data, size=generated_data_size, scale=2)\n",
    "    generated_data_x_ticks[i] = np.repeat(x[i], generated_data_size)\n",
    "    plt.plot(generated_data_x_ticks[i], generated_data[i], linestyle='None', color='red', marker='o')\n",
    "\n",
    "# Linear Model\n",
    "plt.plot(a, b, color='red')\n",
    "\n",
    "plt.show()"
   ]
  },
  {
   "cell_type": "markdown",
   "metadata": {},
   "source": [
    "## Chi Squared Fit for the generated data "
   ]
  },
  {
   "cell_type": "code",
   "execution_count": 134,
   "metadata": {
    "collapsed": false
   },
   "outputs": [
    {
     "name": "stdout",
     "output_type": "stream",
     "text": [
      "[[ 986.46525424  985.66342204  988.15738823  990.3055709   985.26500075\n   985.45180358  988.23699199  985.84329958  985.15526095  989.252039  ]\n [ 973.55294675  974.61006579  970.18296385  974.17537677  976.76527839\n   976.75440183  973.92673097  973.66259819  974.34867708  969.15321035]\n [ 964.95397405  961.16232521  961.64138923  965.52533665  959.38739204\n   964.73541108  965.88628415  956.57432686  958.47350124  962.7444352 ]\n [ 947.95676085  951.66249398  954.0758038   943.53239919  950.8910091\n   944.51190521  947.2163772   947.91415073  950.03964145  951.46370548]\n [ 932.25406883  937.96237756  938.25321907  938.89455872  940.29674611\n   939.55804746  937.85908572  937.68979678  936.97265756  936.62626563]]\n986.465254241\n973.552946751\n964.953974052\n947.956760851\n932.254068828\n985.663422044\n974.610065791\n961.162325209\n951.662493984\n937.962377564\n988.157388225\n970.182963846\n961.641389227\n954.075803796\n938.253219072\n990.305570899\n974.175376771\n965.525336652\n943.532399193\n938.894558716\n985.265000747\n976.765278391\n959.387392045\n950.8910091\n940.296746112\n985.451803576\n976.75440183\n964.735411082\n944.511905211\n939.55804746\n988.236991989\n973.926730974\n965.88628415\n947.216377197\n937.859085725\n985.843299581\n973.662598194\n956.574326861\n947.914150735\n937.689796781\n985.155260948\n974.348677078\n958.473501236\n950.03964145\n936.972657563\n989.252038999\n969.153210351\n962.744435198\n951.463705478\n936.62626563\n"
     ]
    }
   ],
   "source": [
    "print(generated_data)\n",
    "for i in range(generated_data_size):\n",
    "    generated_obs = np.zeros(len(x))\n",
    "    for data in generated_data:\n",
    "        \n",
    "        print(data[i])\n",
    "    # minimizing_function\n"
   ]
  },
  {
   "cell_type": "code",
   "execution_count": null,
   "metadata": {},
   "outputs": [],
   "source": [
    ""
   ]
  }
 ],
 "metadata": {
  "kernelspec": {
   "display_name": "Python 3",
   "language": "python",
   "name": "python3"
  },
  "language_info": {
   "codemirror_mode": {
    "name": "ipython",
    "version": 3.0
   },
   "file_extension": ".py",
   "mimetype": "text/x-python",
   "name": "python",
   "nbconvert_exporter": "python",
   "pygments_lexer": "ipython3",
   "version": "3.6.1"
  }
 },
 "nbformat": 4,
 "nbformat_minor": 0
}