{
 "cells": [
  {
   "cell_type": "code",
   "execution_count": 4,
   "metadata": {
    "collapsed": false
   },
   "outputs": [
    {
     "name": "stdout",
     "output_type": "stream",
     "text": [
      "Trial Number 1\nNumber of Coins: 1\nHeads: 11\nTails: 9\n\nTrial Number 2\nNumber of Coins: 4\nHeads: 46\nTails: 34\n\nTrial Number 3\nNumber of Coins: 10\nHeads: 98\nTails: 102\n\n"
     ]
    },
    {
     "data": {
      "image/png": "[encoded data removed]",
      "text/plain": [
       "<matplotlib.figure.Figure at 0x1095d27f0>"
      ]
     },
     "metadata": {},
     "output_type": "display_data"
    }
   ],
   "source": [
    "import matplotlib.pyplot as plt\n",
    "import numpy as np\n",
    "from random import getrandbits\n",
    "\n",
    "number_of_coins = [1, 4, 10]\n",
    "experiments = 20\n",
    "\n",
    "for i, coins in enumerate(number_of_coins):\n",
    "    value_heads = 0\n",
    "    value_tails = 0\n",
    "    for _ in range(experiments):\n",
    "        for coin in range(coins):\n",
    "            if getrandbits(1):\n",
    "                value_heads = value_heads + 1\n",
    "            else:\n",
    "                value_tails = value_tails + 1\n",
    "    print(\"Trial Number %s\" % (i + 1))\n",
    "    print(\"Number of Coins: %s\" % coins)\n",
    "    print(\"Heads: %s\" % value_heads)\n",
    "    print(\"Tails: %s\" % value_tails)\n",
    "    print(\"\")\n",
    "    \n",
    "n, bins, patches = plt.hist([value_heads, value_tails], 3, normed=1, facecolor='#2524fc', alpha=0.75)\n",
    "plt.show()"
   ]
  },
  {
   "cell_type": "code",
   "execution_count": 212,
   "metadata": {
    "collapsed": true
   },
   "outputs": [
    {
     "data": {
      "image/png": "[encoded data removed]",
      "text/plain": [
       "<matplotlib.figure.Figure at 0x1112fd1d0>"
      ]
     },
     "metadata": {},
     "output_type": "display_data"
    }
   ],
   "source": [
    "# Try changing me\n",
    "random_variables = 200\n",
    "experiments = 10\n",
    "\n",
    "inclusive_total = random_variables + 1 # Add 1 to account for all sums\n",
    "graph_bins = np.arange(0, inclusive_total, 1)\n",
    "bins = np.zeros(inclusive_total, dtype=np.float64)  \n",
    "normalized_bins = np.zeros(inclusive_total, dtype=np.float64)\n",
    "\n",
    "# Calculate the sum of random variables\n",
    "for _ in range(experiments):\n",
    "    value = 0\n",
    "    for i in range(random_variables):\n",
    "        if getrandbits(1):\n",
    "            value = value + 1\n",
    "    bins[value] = bins[value] + 1\n",
    "\n",
    "for i, value in enumerate(bins):\n",
    "    normalized_bins[i] = (value / experiments)\n",
    "    \n",
    "plt.plot(graph_bins, normalized_bins)\n",
    "plt.show()"
   ]
  },
  {
   "cell_type": "markdown",
   "metadata": {},
   "source": [
    "# Lecture 7 Recreation"
   ]
  },
  {
   "cell_type": "markdown",
   "metadata": {},
   "source": [
    "## True Dataset"
   ]
  },
  {
   "cell_type": "code",
   "execution_count": 96,
   "metadata": {},
   "outputs": [
    {
     "data": {
      "image/png": "[encoded data removed]",
      "text/plain": [
       "<matplotlib.figure.Figure at 0x10a35aef0>"
      ]
     },
     "metadata": {},
     "output_type": "display_data"
    }
   ],
   "source": [
    "x = np.arange(20, 120, 20)\n",
    "# y = np.array([940, 1010, 960, 955, 890])  # Observed Values\n",
    "y = np.array([965, 985, 960, 970, 925])  # Observed Values\n",
    "e = np.sqrt(y)  # Uncertainty\n",
    "\n",
    "fig, ax = plt.subplots()\n",
    "plt.plot(linestyle=\"None\")\n",
    "ax.errorbar(x, y, e, linestyle='None', marker='o')\n",
    "plt.show()"
   ]
  },
  {
   "cell_type": "markdown",
   "metadata": {},
   "source": [
    "## Model"
   ]
  },
  {
   "cell_type": "code",
   "execution_count": 97,
   "metadata": {},
   "outputs": [],
   "source": [
    "def linear_model(a, photon_energy):\n",
    "    \"\"\"Linear Model\n",
    "\n",
    "    Args:\n",
    "        a: Slope\n",
    "        photon_energy: Observed photon energy.\n",
    "\n",
    "    Returns:\n",
    "        Value from the linear function.\n",
    "    \"\"\"\n",
    "    return (a * photon_energy) + 1000"
   ]
  },
  {
   "cell_type": "markdown",
   "metadata": {},
   "source": [
    "## Minimizing Function"
   ]
  },
  {
   "cell_type": "code",
   "execution_count": 98,
   "metadata": {},
   "outputs": [],
   "source": [
    "def minimizing_function(a, photon_energy, observed_values):\n",
    "    \"\"\"Chi Squared Minimizing Function\n",
    "\n",
    "    Args:\n",
    "        a: Slope\n",
    "        photon_energy: Array of energy observed\n",
    "        observed_values: Array of number of observed photons.\n",
    "\n",
    "    Returns:\n",
    "        Value from the chi squared function.\n",
    "    \"\"\"\n",
    "    value = 0\n",
    "    for i, observed_value in enumerate(observed_values):\n",
    "        predicated_value = linear_model(a, photon_energy[i])  # Retrieve the value for the predicted value from the model\n",
    "        value = value + np.square((observed_value - predicated_value) / np.sqrt(observed_value))\n",
    "    return value"
   ]
  },
  {
   "cell_type": "markdown",
   "metadata": {},
   "source": [
    "## Find the minimum a value"
   ]
  },
  {
   "cell_type": "code",
   "execution_count": 138,
   "metadata": {
    "collapsed": false
   },
   "outputs": [
    {
     "name": "stdout",
     "output_type": "stream",
     "text": [
      "1.20584145052\n-0.6161\n"
     ]
    }
   ],
   "source": [
    "import sys\n",
    "\n",
    "possible_minimum_a = np.arange(-.8, -.6, .0001)  # Generate values to brute force a\n",
    "minimum = sys.maxsize  # Set the max size so any value will be less than the minimum\n",
    "minimum_a = 0  # Keep track of the minimum a value used\n",
    "\n",
    "for i in possible_minimum_a:\n",
    "    temp_min = minimizing_function(i, x, y)\n",
    "    if temp_min < minimum:\n",
    "        minimum = temp_min\n",
    "        minimum_a = i\n",
    "\n",
    "print(minimum)\n",
    "print(minimum_a)"
   ]
  },
  {
   "cell_type": "markdown",
   "metadata": {},
   "source": [
    "## Reconstructed Spectrum"
   ]
  },
  {
   "cell_type": "code",
   "execution_count": 139,
   "metadata": {},
   "outputs": [
    {
     "data": {
      "image/png": "[encoded data removed]",
      "text/plain": [
       "<matplotlib.figure.Figure at 0x10a3a7da0>"
      ]
     },
     "metadata": {},
     "output_type": "display_data"
    }
   ],
   "source": [
    "a = np.arange(20, 120, 20)\n",
    "b = np.empty([len(a)]) \n",
    "for i, value in enumerate(a):\n",
    "    b[i] = linear_model(minimum_a, value)\n",
    "\n",
    "fig, ax = plt.subplots()\n",
    "plt.plot(a, b)\n",
    "plt.show()"
   ]
  },
  {
   "cell_type": "markdown",
   "metadata": {},
   "source": [
    "## Fitted Linear Model "
   ]
  },
  {
   "cell_type": "code",
   "execution_count": 155,
   "metadata": {},
   "outputs": [
    {
     "data": {
      "image/png": "[encoded data removed]",
      "text/plain": [
       "<matplotlib.figure.Figure at 0x109b93da0>"
      ]
     },
     "metadata": {},
     "output_type": "display_data"
    }
   ],
   "source": [
    "plt.subplot(211)  # the first subplot in the first figure\n",
    "plt.plot(a, b, color='red')\n",
    "plt.errorbar(x, y, e, linestyle='None', color='#2524fc', marker='o')\n",
    "\n",
    "# Standard Deviations\n",
    "std = (y - b) / np.sqrt(b)\n",
    "plt.subplot(212)  # the first subplot in the first figure\n",
    "plt.errorbar(x, std, yerr=.2, linestyle='None', color='red', marker='o')\n",
    "plt.plot(x, [0, 0, 0, 0, 0], linestyle='dotted', color='red')\n",
    "plt.show()"
   ]
  },
  {
   "cell_type": "markdown",
   "metadata": {},
   "source": [
    "## Generate Fake Data Using the Model\n",
    "### a = minimum_a"
   ]
  },
  {
   "cell_type": "code",
   "execution_count": null,
   "metadata": {},
   "outputs": [],
   "source": [
    ""
   ]
  }
 ],
 "metadata": {
  "kernelspec": {
   "display_name": "Python 3",
   "language": "python",
   "name": "python3"
  },
  "language_info": {
   "codemirror_mode": {
    "name": "ipython",
    "version": 3.0
   },
   "file_extension": ".py",
   "mimetype": "text/x-python",
   "name": "python",
   "nbconvert_exporter": "python",
   "pygments_lexer": "ipython3",
   "version": "3.6.1"
  }
 },
 "nbformat": 4,
 "nbformat_minor": 0
}